{
 "cells": [
  {
   "cell_type": "code",
   "execution_count": null,
   "id": "b8f3ca3e",
   "metadata": {},
   "outputs": [
    {
     "name": "stdout",
     "output_type": "stream",
     "text": [
      "Enter the paragraph to summarize (or 'q' to quit): Artificial Intelligence (AI), the culmination of decades of research and technological advancement, has emerged as a transformative force reshaping industries, societies, and the very nature of human existence. Rooted in the aspiration to replicate human cognitive processes, AI encompasses a constellation of technologies that enable machines to perceive, reason, learn, and act in ways previously reserved for sentient beings. Machine learning, a pivotal subset of AI, empowers systems to autonomously refine their performance through data-driven experiences, unraveling complex patterns and insights from vast datasets. Neural networks, inspired by the human brain's interconnected neurons, drive deep learning—a subfield of machine learning that has revolutionized tasks such as image recognition, natural language processing, and game playing. From virtual assistants capable of natural language understanding and generation to self-driving cars navigating intricate traffic scenarios, AI-driven applications are rapidly permeating daily life. However, this surge in capability is not devoid of challenges. Ethical concerns encompassing bias in algorithms, job displacement due to automation, and the moral implications of autonomous decision-making necessitate careful consideration. As AI systems grow more sophisticated, the quest for explainability and transparency becomes paramount, striving to demystify their decision processes and enable effective human oversight. The pursuit of artificial general intelligence (AGI), an AI that equals or surpasses human intelligence across diverse tasks, remains an ambitious yet uncertain horizon, raising philosophical, ethical, and existential inquiries about the relationship between machines and humanity. As AI evolves, interdisciplinary collaboration among computer science, neuroscience, philosophy, and ethics becomes imperative to navigate the uncharted territories of a future where machines and humans coexist in ways previously only imaginable in science fiction.\n",
      "Enter the number of sentences in the summary: 4\n",
      "Summary (top 4 sentences):\n",
      "Rooted in the aspiration to replicate human cognitive processes, AI encompasses a constellation of technologies that enable machines to perceive, reason, learn, and act in ways previously reserved for sentient beings. As AI systems grow more sophisticated, the quest for explainability and transparency becomes paramount, striving to demystify their decision processes and enable effective human oversight. The pursuit of artificial general intelligence (AGI), an AI that equals or surpasses human intelligence across diverse tasks, remains an ambitious yet uncertain horizon, raising philosophical, ethical, and existential inquiries about the relationship between machines and humanity. As AI evolves, interdisciplinary collaboration among computer science, neuroscience, philosophy, and ethics becomes imperative to navigate the uncharted territories of a future where machines and humans coexist in ways previously only imaginable in science fiction.\n"
     ]
    }
   ],
   "source": [
    "import nltk\n",
    "from nltk.corpus import stopwords\n",
    "from nltk.tokenize import word_tokenize, sent_tokenize\n",
    "from heapq import nlargest\n",
    "\n",
    "# nltk.download('punkt')\n",
    "# nltk.download('stopwords')\n",
    "\n",
    "def summarize_text(text, num_sentences):\n",
    "    # Tokenize the text into sentences and words\n",
    "    sentences = sent_tokenize(text)\n",
    "    words = word_tokenize(text)\n",
    "\n",
    "    # Remove stop words and punctuation\n",
    "    stop_words = set(stopwords.words(\"english\"))\n",
    "    words = [word for word in words if word.isalnum() and word not in stop_words]\n",
    "\n",
    "    # Calculate the word frequency for each word\n",
    "    word_freq = nltk.FreqDist(words)\n",
    "\n",
    "    # Calculate the sentence scores\n",
    "    sentence_scores = []\n",
    "    for sentence in sentences:\n",
    "        # Calculate the total word count and the frequency of non-stop words in the sentence\n",
    "        total_words = len(word_tokenize(sentence))\n",
    "        non_stop_words = [word for word in word_tokenize(sentence) if word in word_freq]\n",
    "        freq_sum = sum(word_freq[word] for word in non_stop_words)\n",
    "\n",
    "        # Calculate the average word frequency in the sentence\n",
    "        if total_words > 0:\n",
    "            avg_freq = freq_sum / total_words\n",
    "        else:\n",
    "            avg_freq = 0\n",
    "\n",
    "        sentence_scores.append(avg_freq)\n",
    "\n",
    "    # Select the top sentences with the highest scores\n",
    "    selected_indices = nlargest(num_sentences, range(len(sentence_scores)), key=lambda i: sentence_scores[i])\n",
    "    selected_indices.sort()\n",
    "\n",
    "    # Extract selected sentences from the original text\n",
    "    summary = [sentences[i] for i in selected_indices]\n",
    "\n",
    "    return \" \".join(summary)\n",
    "\n",
    "while True:\n",
    "    # User input\n",
    "    text = input(\"Enter the paragraph to summarize (or 'q' to quit): \")\n",
    "    if text.lower() == 'q':\n",
    "        break\n",
    "    num_sentences = int(input(\"Enter the number of sentences in the summary: \"))\n",
    "\n",
    "    # Call the summarize_text function\n",
    "    summary = summarize_text(text, num_sentences)\n",
    "\n",
    "    print(f\"Summary (top {num_sentences} sentences):\")\n",
    "    print(summary)\n"
   ]
  },
  {
   "cell_type": "code",
   "execution_count": null,
   "id": "6441aad7",
   "metadata": {},
   "outputs": [],
   "source": []
  }
 ],
 "metadata": {
  "kernelspec": {
   "display_name": "Python 3 (ipykernel)",
   "language": "python",
   "name": "python3"
  },
  "language_info": {
   "codemirror_mode": {
    "name": "ipython",
    "version": 3
   },
   "file_extension": ".py",
   "mimetype": "text/x-python",
   "name": "python",
   "nbconvert_exporter": "python",
   "pygments_lexer": "ipython3",
   "version": "3.10.9"
  }
 },
 "nbformat": 4,
 "nbformat_minor": 5
}
